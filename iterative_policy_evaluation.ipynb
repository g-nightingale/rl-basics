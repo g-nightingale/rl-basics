{
 "cells": [
  {
   "cell_type": "markdown",
   "metadata": {},
   "source": [
    "### Iterative policy evaluation\n",
    "\n",
    "$v_{k+1}(s) = \\sum\\limits_{a} \\pi (a|s) \\sum\\limits_{s', r} p(s', r|s, a)[r + \\gamma v_{k} (s')] $"
   ]
  },
  {
   "cell_type": "code",
   "execution_count": 1,
   "metadata": {},
   "outputs": [],
   "source": [
    "import numpy as np"
   ]
  },
  {
   "cell_type": "code",
   "execution_count": 52,
   "metadata": {},
   "outputs": [],
   "source": [
    "# Set up variables for problem\n",
    "pi = 0.25\n",
    "trans_mat = 1.0\n",
    "reward = -1.0\n",
    "gamma = 1.0\n",
    "v0 =np.zeros((4, 4), dtype=np.float32)"
   ]
  },
  {
   "cell_type": "code",
   "execution_count": 66,
   "metadata": {},
   "outputs": [],
   "source": [
    "def iterative_policy_evaluation(v0, iters=1, round_digits=2):\n",
    "    \"\"\"Iterative policy evaluation.\"\"\"\n",
    "    rows = v0.shape[0]\n",
    "    cols = v0.shape[1]\n",
    "\n",
    "    v = v0.copy()\n",
    "    for i in range(iters):\n",
    "        v_prev = v.copy()\n",
    "        v = np.zeros_like(v_prev)\n",
    "\n",
    "        for r in range(rows):\n",
    "            for c in range(cols):\n",
    "                if (r==0 and c==0) or (r==rows-1 and c==cols-1):\n",
    "                    continue\n",
    "                v_s = 0\n",
    "                v_s += pi * trans_mat * (reward + (gamma * v_prev[max(r-1, 0), c]))\n",
    "                v_s += pi * trans_mat * (reward + (gamma * v_prev[r, min(c+1, cols-1)]))\n",
    "                v_s += pi * trans_mat * (reward + (gamma * v_prev[min(r+1, rows-1), c]))\n",
    "                v_s += pi * trans_mat * (reward + (gamma * v_prev[r, max(c-1, 0)]))\n",
    "\n",
    "                v[r, c] = np.round(v_s, round_digits)\n",
    "        \n",
    "        print(f'Values after iteration {i}')\n",
    "        print(v, '\\n')\n",
    "        \n",
    "    return v"
   ]
  },
  {
   "cell_type": "code",
   "execution_count": 67,
   "metadata": {},
   "outputs": [
    {
     "name": "stdout",
     "output_type": "stream",
     "text": [
      "Values after iteration 0\n",
      "[[ 0. -1. -1. -1.]\n",
      " [-1. -1. -1. -1.]\n",
      " [-1. -1. -1. -1.]\n",
      " [-1. -1. -1.  0.]] \n",
      "\n",
      "Values after iteration 1\n",
      "[[ 0.   -1.75 -2.   -2.  ]\n",
      " [-1.75 -2.   -2.   -2.  ]\n",
      " [-2.   -2.   -2.   -1.75]\n",
      " [-2.   -2.   -1.75  0.  ]] \n",
      "\n",
      "Values after iteration 2\n",
      "[[ 0.   -2.44 -2.94 -3.  ]\n",
      " [-2.44 -2.88 -3.   -2.94]\n",
      " [-2.94 -3.   -2.88 -2.44]\n",
      " [-3.   -2.94 -2.44  0.  ]] \n",
      "\n",
      "Values after iteration 3\n",
      "[[ 0.   -3.07 -3.85 -3.97]\n",
      " [-3.07 -3.72 -3.91 -3.85]\n",
      " [-3.85 -3.91 -3.72 -3.07]\n",
      " [-3.97 -3.85 -3.07  0.  ]] \n",
      "\n"
     ]
    }
   ],
   "source": [
    "v_new = iterative_policy_evaluation(v0, iters=4)"
   ]
  }
 ],
 "metadata": {
  "interpreter": {
   "hash": "929b2f299ce0f6158e22f16e33cbb99775ec78db81a43cd19c351cbd2670c4ae"
  },
  "kernelspec": {
   "display_name": "Python 3.8.12 ('base')",
   "language": "python",
   "name": "python3"
  },
  "language_info": {
   "codemirror_mode": {
    "name": "ipython",
    "version": 3
   },
   "file_extension": ".py",
   "mimetype": "text/x-python",
   "name": "python",
   "nbconvert_exporter": "python",
   "pygments_lexer": "ipython3",
   "version": "3.8.12"
  },
  "orig_nbformat": 4
 },
 "nbformat": 4,
 "nbformat_minor": 2
}
